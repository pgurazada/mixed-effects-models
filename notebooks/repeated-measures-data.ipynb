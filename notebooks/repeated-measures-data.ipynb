{
 "cells": [
  {
   "cell_type": "markdown",
   "metadata": {},
   "source": [
    "# 1. Objective\n",
    "\n",
    "To fit models for repeated measures data"
   ]
  },
  {
   "cell_type": "markdown",
   "metadata": {},
   "source": [
    "Repeated measures data can thought of to exist in two levels. The subject level (level 2) and the unit of analysis being the repeated measurements on each subject (level 1). Covariates at level 2 describe the between-subjects variation and covariates at level 1 describe the within-subjects variation."
   ]
  },
  {
   "cell_type": "code",
   "execution_count": 4,
   "metadata": {},
   "outputs": [],
   "source": [
    "data_df = read.delim(\"data/rat_brain.dat.txt\")"
   ]
  },
  {
   "cell_type": "code",
   "execution_count": 5,
   "metadata": {},
   "outputs": [
    {
     "name": "stdout",
     "output_type": "stream",
     "text": [
      "Observations: 30\n",
      "Variables: 4\n",
      "$ animal    \u001b[3m\u001b[38;5;246m<fct>\u001b[39m\u001b[23m R111097, R111097, R111097, R111097, R111097, R111097, R1113…\n",
      "$ treatment \u001b[3m\u001b[38;5;246m<int>\u001b[39m\u001b[23m 1, 1, 1, 2, 2, 2, 1, 1, 1, 2, 2, 2, 1, 1, 1, 2, 2, 2, 1, 1,…\n",
      "$ region    \u001b[3m\u001b[38;5;246m<int>\u001b[39m\u001b[23m 1, 2, 3, 1, 2, 3, 1, 2, 3, 1, 2, 3, 1, 2, 3, 1, 2, 3, 1, 2,…\n",
      "$ activate  \u001b[3m\u001b[38;5;246m<dbl>\u001b[39m\u001b[23m 366.19, 199.31, 187.11, 371.71, 302.02, 449.70, 375.58, 204…\n"
     ]
    }
   ],
   "source": [
    "glimpse(data_df)"
   ]
  },
  {
   "cell_type": "markdown",
   "metadata": {},
   "source": [
    "Formally, we allow the intercept and slope of treatment to vary by observations on animals:\n",
    "\n",
    "For observation $t$ on animal $i$:\n",
    "\n",
    "$$ activate_{ti} =  \\beta_0 + \\beta_1 region1_{ti} + \\beta_2 region2_{ti} + \\beta_3 treatment_{ti} + \\\\\n",
    "                     \\beta_4 region1_{ti} \\times treatment_{ti} + \\beta_5 region2_{ti} \\times treatment_{ti} + \\\\\n",
    "                      u_{0i} + u_{3i} treatment_{ti} + \\epsilon_{ti}$$ \n",
    "                      \n",
    "$$ u_i = \\begin{bmatrix} u_{0i} \\\\ u_{3i} \\end{bmatrix} \\sim N(0, \\mathbf{D})$$\n",
    "\n",
    "$$ \\epsilon_i = \\begin{bmatrix} \\epsilon_{1i} \\\\ \\vdots \\\\ \\epsilon_{6i} \\end{bmatrix} \\sim N(0, \\sigma^2I_6)$$"
   ]
  },
  {
   "cell_type": "code",
   "execution_count": 6,
   "metadata": {},
   "outputs": [],
   "source": [
    "data_df %>%\n",
    "    mutate(treatment = ifelse(treatment == 1, 0, 1),\n",
    "           region = case_when(region == 1 ~ 1,\n",
    "                              region == 2 ~ 2,\n",
    "                              region == 3 ~ 0)) %>%\n",
    "    mutate(region = factor(region)) ->\n",
    "    data_df"
   ]
  },
  {
   "cell_type": "code",
   "execution_count": 7,
   "metadata": {},
   "outputs": [
    {
     "name": "stdout",
     "output_type": "stream",
     "text": [
      "Observations: 30\n",
      "Variables: 4\n",
      "$ animal    \u001b[3m\u001b[38;5;246m<fct>\u001b[39m\u001b[23m R111097, R111097, R111097, R111097, R111097, R111097, R1113…\n",
      "$ treatment \u001b[3m\u001b[38;5;246m<dbl>\u001b[39m\u001b[23m 0, 0, 0, 1, 1, 1, 0, 0, 0, 1, 1, 1, 0, 0, 0, 1, 1, 1, 0, 0,…\n",
      "$ region    \u001b[3m\u001b[38;5;246m<fct>\u001b[39m\u001b[23m 1, 2, 0, 1, 2, 0, 1, 2, 0, 1, 2, 0, 1, 2, 0, 1, 2, 0, 1, 2,…\n",
      "$ activate  \u001b[3m\u001b[38;5;246m<dbl>\u001b[39m\u001b[23m 366.19, 199.31, 187.11, 371.71, 302.02, 449.70, 375.58, 204…\n"
     ]
    }
   ],
   "source": [
    "glimpse(data_df)"
   ]
  },
  {
   "cell_type": "code",
   "execution_count": 9,
   "metadata": {},
   "outputs": [],
   "source": [
    "base_model = lme(activate ~ region * treatment,\n",
    "                 random = ~ 1 | animal,\n",
    "                 data = data_df,\n",
    "                 method = \"REML\")"
   ]
  },
  {
   "cell_type": "code",
   "execution_count": 13,
   "metadata": {},
   "outputs": [],
   "source": [
    "proposed_model1 = lme(activate ~ region * treatment,\n",
    "                     random = ~ 1 + treatment | animal,\n",
    "                     data = data_df,\n",
    "                     method = \"REML\")"
   ]
  },
  {
   "cell_type": "code",
   "execution_count": 14,
   "metadata": {},
   "outputs": [
    {
     "data": {
      "text/html": [
       "<table>\n",
       "<caption>A anova.lme: 2 × 9</caption>\n",
       "<thead>\n",
       "\t<tr><th></th><th scope=col>call</th><th scope=col>Model</th><th scope=col>df</th><th scope=col>AIC</th><th scope=col>BIC</th><th scope=col>logLik</th><th scope=col>Test</th><th scope=col>L.Ratio</th><th scope=col>p-value</th></tr>\n",
       "\t<tr><th></th><th scope=col>&lt;fct&gt;</th><th scope=col>&lt;int&gt;</th><th scope=col>&lt;dbl&gt;</th><th scope=col>&lt;dbl&gt;</th><th scope=col>&lt;dbl&gt;</th><th scope=col>&lt;dbl&gt;</th><th scope=col>&lt;fct&gt;</th><th scope=col>&lt;dbl&gt;</th><th scope=col>&lt;dbl&gt;</th></tr>\n",
       "</thead>\n",
       "<tbody>\n",
       "\t<tr><th scope=row>base_model</th><td>lme.formula(fixed = activate ~ region * treatment, data = data_df,     random = ~1 | animal, method = \"REML\")            </td><td>1</td><td> 8</td><td>291.2822</td><td>300.7066</td><td>-137.6411</td><td>      </td><td>      NA</td><td>          NA</td></tr>\n",
       "\t<tr><th scope=row>proposed_model1</th><td>lme.formula(fixed = activate ~ region * treatment, data = data_df,     random = ~1 + treatment | animal, method = \"REML\")</td><td>2</td><td>10</td><td>269.1904</td><td>280.9710</td><td>-124.5952</td><td>1 vs 2</td><td>26.09171</td><td>2.159021e-06</td></tr>\n",
       "</tbody>\n",
       "</table>\n"
      ],
      "text/latex": [
       "A anova.lme: 2 × 9\n",
       "\\begin{tabular}{r|lllllllll}\n",
       "  & call & Model & df & AIC & BIC & logLik & Test & L.Ratio & p-value\\\\\n",
       "  & <fct> & <int> & <dbl> & <dbl> & <dbl> & <dbl> & <fct> & <dbl> & <dbl>\\\\\n",
       "\\hline\n",
       "\tbase\\_model & lme.formula(fixed = activate \\textasciitilde{} region * treatment, data = data\\_df,     random = \\textasciitilde{}1 \\textbar{} animal, method = \"REML\")             & 1 &  8 & 291.2822 & 300.7066 & -137.6411 &        &       NA &           NA\\\\\n",
       "\tproposed\\_model1 & lme.formula(fixed = activate \\textasciitilde{} region * treatment, data = data\\_df,     random = \\textasciitilde{}1 + treatment \\textbar{} animal, method = \"REML\") & 2 & 10 & 269.1904 & 280.9710 & -124.5952 & 1 vs 2 & 26.09171 & 2.159021e-06\\\\\n",
       "\\end{tabular}\n"
      ],
      "text/markdown": [
       "\n",
       "A anova.lme: 2 × 9\n",
       "\n",
       "| <!--/--> | call &lt;fct&gt; | Model &lt;int&gt; | df &lt;dbl&gt; | AIC &lt;dbl&gt; | BIC &lt;dbl&gt; | logLik &lt;dbl&gt; | Test &lt;fct&gt; | L.Ratio &lt;dbl&gt; | p-value &lt;dbl&gt; |\n",
       "|---|---|---|---|---|---|---|---|---|---|\n",
       "| base_model | lme.formula(fixed = activate ~ region * treatment, data = data_df,     random = ~1 | animal, method = \"REML\")             | 1 |  8 | 291.2822 | 300.7066 | -137.6411 | <!----> |       NA |           NA |\n",
       "| proposed_model1 | lme.formula(fixed = activate ~ region * treatment, data = data_df,     random = ~1 + treatment | animal, method = \"REML\") | 2 | 10 | 269.1904 | 280.9710 | -124.5952 | 1 vs 2 | 26.09171 | 2.159021e-06 |\n",
       "\n"
      ],
      "text/plain": [
       "                call                                                                                                                     \n",
       "base_model      lme.formula(fixed = activate ~ region * treatment, data = data_df,     random = ~1 | animal, method = \"REML\")            \n",
       "proposed_model1 lme.formula(fixed = activate ~ region * treatment, data = data_df,     random = ~1 + treatment | animal, method = \"REML\")\n",
       "                Model df AIC      BIC      logLik    Test   L.Ratio \n",
       "base_model      1      8 291.2822 300.7066 -137.6411              NA\n",
       "proposed_model1 2     10 269.1904 280.9710 -124.5952 1 vs 2 26.09171\n",
       "                p-value     \n",
       "base_model                NA\n",
       "proposed_model1 2.159021e-06"
      ]
     },
     "metadata": {},
     "output_type": "display_data"
    }
   ],
   "source": [
    "anova(base_model, proposed_model1)"
   ]
  },
  {
   "cell_type": "code",
   "execution_count": 17,
   "metadata": {},
   "outputs": [],
   "source": [
    "proposed_model2 = lme(activate ~ region * treatment,\n",
    "                      random = ~ 1 + treatment | animal,\n",
    "                      weights = varIdent(form = ~ 1 | treatment),\n",
    "                      data = data_df,\n",
    "                      method = \"REML\")"
   ]
  },
  {
   "cell_type": "code",
   "execution_count": 18,
   "metadata": {},
   "outputs": [
    {
     "data": {
      "text/html": [
       "<table>\n",
       "<caption>A anova.lme: 2 × 9</caption>\n",
       "<thead>\n",
       "\t<tr><th></th><th scope=col>call</th><th scope=col>Model</th><th scope=col>df</th><th scope=col>AIC</th><th scope=col>BIC</th><th scope=col>logLik</th><th scope=col>Test</th><th scope=col>L.Ratio</th><th scope=col>p-value</th></tr>\n",
       "\t<tr><th></th><th scope=col>&lt;fct&gt;</th><th scope=col>&lt;int&gt;</th><th scope=col>&lt;dbl&gt;</th><th scope=col>&lt;dbl&gt;</th><th scope=col>&lt;dbl&gt;</th><th scope=col>&lt;dbl&gt;</th><th scope=col>&lt;fct&gt;</th><th scope=col>&lt;dbl&gt;</th><th scope=col>&lt;dbl&gt;</th></tr>\n",
       "</thead>\n",
       "<tbody>\n",
       "\t<tr><th scope=row>proposed_model1</th><td>lme.formula(fixed = activate ~ region * treatment, data = data_df,     random = ~1 + treatment | animal, method = \"REML\")                                                   </td><td>1</td><td>10</td><td>269.1904</td><td>280.9710</td><td>-124.5952</td><td>      </td><td>       NA</td><td>      NA</td></tr>\n",
       "\t<tr><th scope=row>proposed_model2</th><td>lme.formula(fixed = activate ~ region * treatment, data = data_df,     random = ~1 + treatment | animal, weights = varIdent(form = ~1 |         treatment), method = \"REML\")</td><td>2</td><td>11</td><td>271.0383</td><td>283.9969</td><td>-124.5192</td><td>1 vs 2</td><td>0.1521269</td><td>0.696511</td></tr>\n",
       "</tbody>\n",
       "</table>\n"
      ],
      "text/latex": [
       "A anova.lme: 2 × 9\n",
       "\\begin{tabular}{r|lllllllll}\n",
       "  & call & Model & df & AIC & BIC & logLik & Test & L.Ratio & p-value\\\\\n",
       "  & <fct> & <int> & <dbl> & <dbl> & <dbl> & <dbl> & <fct> & <dbl> & <dbl>\\\\\n",
       "\\hline\n",
       "\tproposed\\_model1 & lme.formula(fixed = activate \\textasciitilde{} region * treatment, data = data\\_df,     random = \\textasciitilde{}1 + treatment \\textbar{} animal, method = \"REML\")                                                    & 1 & 10 & 269.1904 & 280.9710 & -124.5952 &        &        NA &       NA\\\\\n",
       "\tproposed\\_model2 & lme.formula(fixed = activate \\textasciitilde{} region * treatment, data = data\\_df,     random = \\textasciitilde{}1 + treatment \\textbar{} animal, weights = varIdent(form = \\textasciitilde{}1 \\textbar{}         treatment), method = \"REML\") & 2 & 11 & 271.0383 & 283.9969 & -124.5192 & 1 vs 2 & 0.1521269 & 0.696511\\\\\n",
       "\\end{tabular}\n"
      ],
      "text/markdown": [
       "\n",
       "A anova.lme: 2 × 9\n",
       "\n",
       "| <!--/--> | call &lt;fct&gt; | Model &lt;int&gt; | df &lt;dbl&gt; | AIC &lt;dbl&gt; | BIC &lt;dbl&gt; | logLik &lt;dbl&gt; | Test &lt;fct&gt; | L.Ratio &lt;dbl&gt; | p-value &lt;dbl&gt; |\n",
       "|---|---|---|---|---|---|---|---|---|---|\n",
       "| proposed_model1 | lme.formula(fixed = activate ~ region * treatment, data = data_df,     random = ~1 + treatment | animal, method = \"REML\")                                                    | 1 | 10 | 269.1904 | 280.9710 | -124.5952 | <!----> |        NA |       NA |\n",
       "| proposed_model2 | lme.formula(fixed = activate ~ region * treatment, data = data_df,     random = ~1 + treatment | animal, weights = varIdent(form = ~1 |         treatment), method = \"REML\") | 2 | 11 | 271.0383 | 283.9969 | -124.5192 | 1 vs 2 | 0.1521269 | 0.696511 |\n",
       "\n"
      ],
      "text/plain": [
       "                call                                                                                                                                                                        \n",
       "proposed_model1 lme.formula(fixed = activate ~ region * treatment, data = data_df,     random = ~1 + treatment | animal, method = \"REML\")                                                   \n",
       "proposed_model2 lme.formula(fixed = activate ~ region * treatment, data = data_df,     random = ~1 + treatment | animal, weights = varIdent(form = ~1 |         treatment), method = \"REML\")\n",
       "                Model df AIC      BIC      logLik    Test   L.Ratio   p-value \n",
       "proposed_model1 1     10 269.1904 280.9710 -124.5952               NA       NA\n",
       "proposed_model2 2     11 271.0383 283.9969 -124.5192 1 vs 2 0.1521269 0.696511"
      ]
     },
     "metadata": {},
     "output_type": "display_data"
    }
   ],
   "source": [
    "anova(proposed_model1, proposed_model2)"
   ]
  },
  {
   "cell_type": "code",
   "execution_count": 19,
   "metadata": {},
   "outputs": [
    {
     "data": {
      "text/plain": [
       "Linear mixed-effects model fit by REML\n",
       " Data: data_df \n",
       "       AIC     BIC    logLik\n",
       "  269.1904 280.971 -124.5952\n",
       "\n",
       "Random effects:\n",
       " Formula: ~1 + treatment | animal\n",
       " Structure: General positive-definite, Log-Cholesky parametrization\n",
       "            StdDev   Corr  \n",
       "(Intercept) 35.83696 (Intr)\n",
       "treatment   79.82012 0.801 \n",
       "Residual    23.21432       \n",
       "\n",
       "Fixed effects: activate ~ region * treatment \n",
       "                     Value Std.Error DF    t-value p-value\n",
       "(Intercept)        212.294  19.09551 20  11.117483  0.0000\n",
       "region1            216.212  14.68203 20  14.726304  0.0000\n",
       "region2             25.450  14.68203 20   1.733412  0.0984\n",
       "treatment          360.026  38.59808 20   9.327561  0.0000\n",
       "region1:treatment -261.822  20.76352 20 -12.609710  0.0000\n",
       "region2:treatment -162.500  20.76352 20  -7.826225  0.0000\n",
       " Correlation: \n",
       "                  (Intr) regin1 regin2 trtmnt rgn1:t\n",
       "region1           -0.384                            \n",
       "region2           -0.384  0.500                     \n",
       "treatment          0.476  0.190  0.190              \n",
       "region1:treatment  0.272 -0.707 -0.354 -0.269       \n",
       "region2:treatment  0.272 -0.354 -0.707 -0.269  0.500\n",
       "\n",
       "Standardized Within-Group Residuals:\n",
       "         Min           Q1          Med           Q3          Max \n",
       "-1.561096490 -0.403922296 -0.006412947  0.464164074  1.825174931 \n",
       "\n",
       "Number of Observations: 30\n",
       "Number of Groups: 5 "
      ]
     },
     "metadata": {},
     "output_type": "display_data"
    }
   ],
   "source": [
    "summary(proposed_model1)"
   ]
  },
  {
   "cell_type": "code",
   "execution_count": null,
   "metadata": {},
   "outputs": [
    {
     "data": {
      "text/plain": [
       "Approximate 95% confidence intervals\n",
       "\n",
       " Fixed effects:\n",
       "                        lower     est.      upper\n",
       "(Intercept)        172.461465  212.294  252.12653\n",
       "region1            185.585828  216.212  246.83817\n",
       "region2             -5.176172   25.450   56.07617\n",
       "treatment          279.511807  360.026  440.54019\n",
       "region1:treatment -305.133948 -261.822 -218.51005\n",
       "region2:treatment -205.811948 -162.500 -119.18805\n",
       "attr(,\"label\")\n",
       "[1] \"Fixed effects:\"\n",
       "\n",
       " Random Effects:\n",
       "  Level: animal \n",
       "                                lower       est.       upper\n",
       "sd((Intercept))            16.2424580 35.8369586  79.0697815\n",
       "sd(treatment)              38.3782028 79.8201157 166.0122261\n",
       "cor((Intercept),treatment) -0.3464772  0.8009907   0.9882172\n",
       "\n",
       " Within-group standard error:\n",
       "   lower     est.    upper \n",
       "16.41655 23.21432 32.82691 "
      ]
     },
     "metadata": {},
     "output_type": "display_data"
    }
   ],
   "source": [
    "intervals(proposed_model1)"
   ]
  },
  {
   "cell_type": "markdown",
   "metadata": {},
   "source": [
    "# R Environment"
   ]
  },
  {
   "cell_type": "code",
   "execution_count": 8,
   "metadata": {},
   "outputs": [],
   "source": [
    "library(tidyverse)\n",
    "library(nlme)"
   ]
  },
  {
   "cell_type": "code",
   "execution_count": 2,
   "metadata": {},
   "outputs": [],
   "source": [
    "setwd(\"~/mixed-effects-models\")"
   ]
  },
  {
   "cell_type": "code",
   "execution_count": 3,
   "metadata": {},
   "outputs": [
    {
     "name": "stdout",
     "output_type": "stream",
     "text": [
      "R version 3.6.1 (2019-07-05)\n",
      "Platform: x86_64-pc-linux-gnu (64-bit)\n",
      "Running under: Ubuntu 18.04.3 LTS\n",
      "\n",
      "Matrix products: default\n",
      "BLAS:   /usr/lib/x86_64-linux-gnu/openblas/libblas.so.3\n",
      "LAPACK: /usr/lib/x86_64-linux-gnu/libopenblasp-r0.2.20.so\n",
      "\n",
      "locale:\n",
      " [1] LC_CTYPE=C.UTF-8       LC_NUMERIC=C           LC_TIME=C.UTF-8       \n",
      " [4] LC_COLLATE=C.UTF-8     LC_MONETARY=C.UTF-8    LC_MESSAGES=C.UTF-8   \n",
      " [7] LC_PAPER=C.UTF-8       LC_NAME=C              LC_ADDRESS=C          \n",
      "[10] LC_TELEPHONE=C         LC_MEASUREMENT=C.UTF-8 LC_IDENTIFICATION=C   \n",
      "\n",
      "attached base packages:\n",
      "[1] stats     graphics  grDevices utils     datasets  methods   base     \n",
      "\n",
      "other attached packages:\n",
      " [1] nlme_3.1-141    forcats_0.4.0   stringr_1.4.0   dplyr_0.8.0.1  \n",
      " [5] purrr_0.3.2     readr_1.3.1     tidyr_0.8.3     tibble_2.1.1   \n",
      " [9] ggplot2_3.1.1   tidyverse_1.2.1\n",
      "\n",
      "loaded via a namespace (and not attached):\n",
      " [1] Rcpp_1.0.1          cellranger_1.1.0    plyr_1.8.4         \n",
      " [4] pillar_1.3.1        compiler_3.6.1      base64enc_0.1-3    \n",
      " [7] tools_3.6.1         digest_0.6.18       uuid_0.1-2         \n",
      "[10] lubridate_1.7.4     jsonlite_1.6        evaluate_0.13      \n",
      "[13] gtable_0.3.0        lattice_0.20-38     pkgconfig_2.0.2    \n",
      "[16] rlang_0.3.4         cli_1.1.0           rstudioapi_0.10    \n",
      "[19] IRdisplay_0.7.0     IRkernel_1.0.1.9000 haven_2.1.0        \n",
      "[22] withr_2.1.2         xml2_1.2.0          httr_1.4.0         \n",
      "[25] repr_1.0.0          hms_0.4.2           generics_0.0.2     \n",
      "[28] grid_3.6.1          tidyselect_0.2.5    glue_1.3.1         \n",
      "[31] R6_2.4.0            readxl_1.3.1        pbdZMQ_0.3-3       \n",
      "[34] modelr_0.1.4        magrittr_1.5        backports_1.1.4    \n",
      "[37] scales_1.0.0        htmltools_0.3.6     rvest_0.3.3        \n",
      "[40] assertthat_0.2.1    colorspace_1.4-1    stringi_1.4.3      \n",
      "[43] lazyeval_0.2.2      munsell_0.5.0       broom_0.5.2        \n",
      "[46] crayon_1.3.4       \n"
     ]
    }
   ],
   "source": [
    "print(sessionInfo())"
   ]
  }
 ],
 "metadata": {
  "kernelspec": {
   "display_name": "R",
   "language": "R",
   "name": "ir"
  },
  "language_info": {
   "codemirror_mode": "r",
   "file_extension": ".r",
   "mimetype": "text/x-r-source",
   "name": "R",
   "pygments_lexer": "r",
   "version": "3.6.1"
  }
 },
 "nbformat": 4,
 "nbformat_minor": 4
}
